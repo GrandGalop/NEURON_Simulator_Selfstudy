{
 "cells": [
  {
   "cell_type": "markdown",
   "id": "bade2ec9",
   "metadata": {},
   "source": [
    "# Model neuron simulation\n",
    "## An analysis of learning performance changes in spiking neural networks(SNN)\n",
    "### 김용주, 김태호\n",
    "\n",
    "* HH model cell을 실험 조건에 맞게 배치해 볼 것\n",
    "    * Ball And Stick Tutorial에서는 z축을 중심으로 2Pi/n rad마다 배치하였음.\n",
    "    * 해당 실험에서는 n by n의 excitatory neurons를 z=0에 배치, n by n (n=10, 15, 20)의 inhibitory neurons를 z=-1에 배치해 보고자 함\n",
    "    * excitatory neuron -> inhibitory neurons는 x 좌표와 y좌표가 둘 다 맞을 때 연결\n",
    "    * inhibitory neuron -> excitatory neurons는 x 좌표와 y좌표가 둘 다 맞을 때를 제외하고 연결\n",
    "\n",
    "* Q1 : input stimulation은 어떻게 구현할 수 있을까?\n",
    "    * Convolutional한 MNIST 데이터셋으로 어떻게 excitatory neurons을 흥분시킬 수 있는가? -> NetCon을 이용하여 Value 에서 Frequency로 바꾸는 작업이 필요할 듯\n",
    "* Q2 : 신경망의 가중치 설정 및 조작\n",
    "    * CNN perceptron -> SNN neuron\n",
    "        * Weight -> Synaptic Weight (Weight term)\n",
    "        * Transfer function 에 대응되는 개념이 SNN에는 존재하지 않는가?\n",
    "        * Refractory는 불변의 scale인가?\n",
    "* Q3 : model image의 learning을 어떤 식으로 진행시킬 수 있을까?\n",
    "    * STDP"
   ]
  },
  {
   "cell_type": "markdown",
   "id": "df943109",
   "metadata": {},
   "source": [
    "## Class 선언\n",
    "\n",
    "### Cell class\n",
    "* neuron의 기본적인 position, 구성요소 등을 정의하는 함수\n",
    "* 후술할 ExcitatoryCell과 InhibitoryCell에서 define되는 _setup_morphology()와 _setup_biophysics() 를 __init__에서 recall함으로써 neuron을 define함\n",
    "\n",
    "### ExcitatoryCell\n",
    "* 흥분성 뉴런을 정의하는 class\n",
    "    * 휴지기 전압 : -65mV\n",
    "    * 초기화 전압 : -65mV\n",
    "    * Threshold : -52mV\n",
    "    * Refractory period : 5ms\n",
    "    \n",
    "### InhibitoryCell\n",
    "* 억제성 뉴런을 정의하는 class\n",
    "    * 휴지기 전압 : -60mV\n",
    "    * 초기화 전압 : -45mV\n",
    "    * Threshold : -40mV\n",
    "    * Refractory period : 2ms\n",
    "    \n",
    "* Refractory period는 설정 완료\n",
    "    * 어떻게 휴지기 전압, 초기화 전압, Threshold를 설정 가능한가?\n",
    "        * 휴지기 전압, 초기화 전압의 차이점은?"
   ]
  },
  {
   "cell_type": "code",
   "execution_count": 1,
   "id": "1e20d6c2",
   "metadata": {},
   "outputs": [
    {
     "data": {
      "text/plain": [
       "1.0"
      ]
     },
     "execution_count": 1,
     "metadata": {},
     "output_type": "execute_result"
    }
   ],
   "source": [
    "from neuron import h, gui\n",
    "from neuron.units import ms, mV\n",
    "h.load_file('stdrun.hoc')"
   ]
  },
  {
   "cell_type": "code",
   "execution_count": 2,
   "id": "d014a9df",
   "metadata": {},
   "outputs": [],
   "source": [
    "from neuron import h\n",
    "class Cell:\n",
    "    def __init__(self, gid, x, y, z):\n",
    "        self._gid = gid\n",
    "        self._setup_morphology()\n",
    "        self.all = self.soma.wholetree()\n",
    "        self._setup_biophysics()\n",
    "        self.x = self.y = self.z = 0\n",
    "        h.define_shape()\n",
    "        self._set_position(x, y, z)\n",
    "        self._spike_detector = h.NetCon(self.soma(0.5)._ref_v, None, sec=self.soma)\n",
    "        self.spike_times = h.Vector()\n",
    "        self._spike_detector.record(self.spike_times)\n",
    "        self._ncs = []\n",
    "        self.soma_v = h.Vector().record(self.soma(0.5)._ref_v)\n",
    "\n",
    "    def __repr__(self):\n",
    "        return '{}[{}]'.format(self.name, self._gid)\n",
    "    \n",
    "    def _set_position(self, x, y, z):\n",
    "        for sec in self.all:\n",
    "            for i in range(sec.n3d()):\n",
    "                sec.pt3dchange(i, x - self.x + sec.x3d(i), y - self.y + sec.y3d(i), z - self.z + sec.z3d(i), sec.diam3d(i))\n",
    "        self.x, self.y, self.z = x, y, z"
   ]
  },
  {
   "cell_type": "code",
   "execution_count": 3,
   "id": "e772f69f",
   "metadata": {},
   "outputs": [],
   "source": [
    "class ExcitatoryCell(Cell):\n",
    "    name = 'ExcitatoryCell'\n",
    "    \n",
    "    def _setup_morphology(self):\n",
    "        self.soma = h.Section(name='soma', cell=self)\n",
    "        self.dend = h.Section(name='dend', cell=self)\n",
    "        self.dend.connect(self.soma)\n",
    "        self.soma.L = self.soma.diam = 12.6157\n",
    "        self.dend.L = 200\n",
    "        self.dend.diam = 1\n",
    "\n",
    "    def _setup_biophysics(self):\n",
    "        for sec in self.all:\n",
    "            sec.Ra = 100    # Axial resistance in Ohm * cm\n",
    "            sec.cm = 1      # Membrane capacitance in micro Farads / cm^2\n",
    "        self.soma.insert('hh')                                          \n",
    "        for seg in self.soma:\n",
    "            seg.hh.gnabar = 0.12  # Sodium conductance in S/cm2\n",
    "            seg.hh.gkbar = 0.036  # Potassium conductance in S/cm2\n",
    "            seg.hh.gl = 0.0003    # Leak conductance in S/cm2\n",
    "            seg.hh.el = -54.3     # Reversal potential in mV\n",
    "            \n",
    "        self.dend.insert('pas')                 \n",
    "        for seg in self.dend:\n",
    "            seg.pas.g = 0.001  # Passive conductance in S/cm2\n",
    "            seg.pas.e = -65    # Leak reversal potential mV\n",
    "        self.syn = h.ExpSyn(self.dend(0.5))\n",
    "        self.syn.tau = 2 * ms\n",
    "        self.refrac = 5 * ms\n",
    "        # input이 .syn이라는 한 지역을 통해 입력 되는 것으로 간주시킴.\n",
    "\"\"\"\n",
    "h.ExpSyn decay에 의해 두 개의 ExpSyn object가 같은 point에 있는 것이나 \n",
    "linearly하게 더해지는 서로 다른 두 synapse가 한 군데에 input하는 것과 다름이 없다.\n",
    "이 point를 dend(0.5)로 정하자.\n",
    "\"\"\"\n",
    "pass"
   ]
  },
  {
   "cell_type": "code",
   "execution_count": 4,
   "id": "41dbdf07",
   "metadata": {},
   "outputs": [],
   "source": [
    "class InhibitoryCell(Cell):\n",
    "    name = 'InhibitoryCell'\n",
    "    \n",
    "    def _setup_morphology(self):\n",
    "        self.soma = h.Section(name='soma', cell=self)\n",
    "        self.dend = h.Section(name='dend', cell=self)\n",
    "        self.dend.connect(self.soma)\n",
    "        self.soma.L = self.soma.diam = 12.6157\n",
    "        self.dend.L = 200\n",
    "        self.dend.diam = 1\n",
    "\n",
    "    def _setup_biophysics(self):\n",
    "        for sec in self.all:\n",
    "            sec.Ra = 100    # Axial resistance in Ohm * cm\n",
    "            sec.cm = 1      # Membrane capacitance in micro Farads / cm^2\n",
    "        self.soma.insert('hh')                                          \n",
    "        for seg in self.soma:\n",
    "            seg.hh.gnabar = 0.12  # Sodium conductance in S/cm2\n",
    "            seg.hh.gkbar = 0.036  # Potassium conductance in S/cm2\n",
    "            seg.hh.gl = 0.0003    # Leak conductance in S/cm2\n",
    "            seg.hh.el = -54.3     # Reversal potential in mV\n",
    "            \n",
    "        self.dend.insert('pas')                 \n",
    "        for seg in self.dend:\n",
    "            seg.pas.g = 0.001  # Passive conductance in S/cm2\n",
    "            seg.pas.e = -60    # Leak reversal potential mV\n",
    "        self.syn = h.ExpSyn(self.dend(0.5))\n",
    "        self.syn.tau = 2 * ms\n",
    "        self.refrac = 2*ms\n",
    "        # input이 .syn이라는 한 지역을 통해 입력 되는 것으로 간주시킴.\n",
    "\"\"\"\n",
    "h.ExpSyn decay에 의해 두 개의 ExpSyn object가 같은 point에 있는 것이나 \n",
    "linearly하게 더해지는 서로 다른 두 synapse가 한 군데에 input하는 것과 다름이 없다.\n",
    "이 point를 dend(0.5)로 정하자.\n",
    "\"\"\"\n",
    "pass"
   ]
  },
  {
   "cell_type": "code",
   "execution_count": 5,
   "id": "e42dc177",
   "metadata": {},
   "outputs": [],
   "source": [
    "class ExSquare:\n",
    "    def __init__(self, N=5, stim_w=0.04, stim_t=9, stim_delay=1, syn_w=0.01, syn_delay=5, d=25):\n",
    "        self._syn_w = syn_w  #Stimulus weight\n",
    "        self._syn_delay = syn_delay\n",
    "        self._create_cells(N, d)\n",
    "        self._netstim = h.NetStim()\n",
    "        self._netstim.number = 1\n",
    "        self._netstim.start = stim_t\n",
    "        self._nc = h.NetCon(self._netstim, self.cells[0].syn)\n",
    "        self._nc.delay = stim_delay\n",
    "        self._nc.weight[0] = stim_w\n",
    "        \n",
    "    def _create_cells(self, N, d):\n",
    "        self.cells = []\n",
    "        for i in range(N):\n",
    "            for j in range(N):\n",
    "                self.cells.append(ExcitatoryCell(100*i+j, d * i, d * j, 0))\n",
    "    \"\"\"\n",
    "    Ball And Stick #2의 create_n_BallAndStick 함수와 같은 방식으로 세포를 선언/배치.\n",
    "    단, 세포들이 return되는 create_n_BallAndStick과 달리 self.cells에 저장됨.\n",
    "    \"\"\"\n",
    "    def _connect_cells(self, insquare):\n",
    "        for source, target in zip(self.cells, insquare.cells):\n",
    "            nc = h.NetCon(source.soma(0.5)._ref_v, target.syn, sec=source.soma)\n",
    "            nc.weight[0] = self._syn_w\n",
    "            nc.delay = self._syn_delay\n",
    "            source._ncs.append(nc)"
   ]
  },
  {
   "cell_type": "code",
   "execution_count": 6,
   "id": "4d6e66ec",
   "metadata": {},
   "outputs": [],
   "source": [
    "class InSquare:\n",
    "    def __init__(self, N=5, stim_w=0.04, stim_t=9, stim_delay=1, syn_w=-0.01, syn_delay=5, d=25):\n",
    "        self._syn_w = syn_w  #Stimulus weight\n",
    "        self._syn_delay = syn_delay\n",
    "        self._create_cells(N, d)\n",
    "        self._netstim = h.NetStim()\n",
    "        self._netstim.number = 1\n",
    "        self._netstim.start = stim_t\n",
    "        self._nc = h.NetCon(self._netstim, self.cells[0].syn)\n",
    "        self._nc.delay = stim_delay\n",
    "        self._nc.weight[0] = stim_w\n",
    "        \n",
    "    def _create_cells(self, N, d):\n",
    "        self.cells = []\n",
    "        for i in range(N):\n",
    "            for j in range(N):\n",
    "                self.cells.append(InhibitoryCell(-100*i-j, d * i, d * j, -50))\n",
    "    \"\"\"\n",
    "    Ball And Stick #2의 create_n_BallAndStick 함수와 같은 방식으로 세포를 선언/배치.\n",
    "    단, 세포들이 return되는 create_n_BallAndStick과 달리 self.cells에 저장됨.\n",
    "    \"\"\"\n",
    "    def _connect_cells(self, exsquare):\n",
    "        \n",
    "        for cell in self.cells:\n",
    "            for excell in exsquare.cells:\n",
    "                if self.cells.index(cell) != exsquare.cells.index(excell):\n",
    "                    source = cell\n",
    "                    target = excell\n",
    "                    nc = h.NetCon(source.soma(0.5)._ref_v, target.syn, sec=source.soma)\n",
    "                    nc.weight[0] = self._syn_w\n",
    "                    nc.delay = self._syn_delay\n",
    "                    source._ncs.append(nc)"
   ]
  },
  {
   "cell_type": "code",
   "execution_count": 7,
   "id": "bb5bb5a2",
   "metadata": {},
   "outputs": [
    {
     "name": "stdout",
     "output_type": "stream",
     "text": [
      "15\n"
     ]
    }
   ],
   "source": [
    "n = int(input())\n",
    "exsquare = ExSquare(N=n)\n",
    "insquare = InSquare(N=n)\n",
    "exsquare._connect_cells(insquare)\n",
    "insquare._connect_cells(exsquare)"
   ]
  },
  {
   "cell_type": "code",
   "execution_count": 8,
   "id": "e86bb423",
   "metadata": {
    "scrolled": true
   },
   "outputs": [
    {
     "name": "stdout",
     "output_type": "stream",
     "text": [
      "1\n",
      "224\n"
     ]
    }
   ],
   "source": [
    "'''\n",
    "Excitatory Cell과 Inhibitory Cell의 NetCon Synapse 수가 \n",
    "각각 1, (n^2)-1임을 확인할 수 있다.\n",
    "(One-to-one, All-to-all except coupled neuron을 만족)\n",
    "'''\n",
    "\n",
    "print(len(exsquare.cells[0]._ncs))\n",
    "print(len(insquare.cells[0]._ncs))\n"
   ]
  },
  {
   "cell_type": "code",
   "execution_count": 9,
   "id": "fc4b1d97",
   "metadata": {},
   "outputs": [
    {
     "data": {
      "text/plain": [
       "1.0"
      ]
     },
     "execution_count": 9,
     "metadata": {},
     "output_type": "execute_result"
    }
   ],
   "source": [
    "shape_window = h.PlotShape(True)\n",
    "shape_window.show(0)"
   ]
  },
  {
   "cell_type": "markdown",
   "id": "52f37dcd",
   "metadata": {},
   "source": [
    "## MNIST loading"
   ]
  },
  {
   "cell_type": "code",
   "execution_count": 43,
   "id": "d9427cb4",
   "metadata": {},
   "outputs": [],
   "source": [
    "import matplotlib.pyplot as plt\n",
    "import numpy as np\n",
    "import tensorflow as tf\n",
    "import pandas as pd\n",
    "\n",
    "import tensorflow_datasets as tfds"
   ]
  },
  {
   "cell_type": "code",
   "execution_count": 11,
   "id": "199cc864",
   "metadata": {},
   "outputs": [],
   "source": [
    "(x_train, y_train), (x_test, y_test) = tf.keras.datasets.mnist.load_data()\n",
    "assert x_train.shape == (60000, 28, 28)\n",
    "assert x_test.shape == (10000, 28, 28)\n",
    "assert y_train.shape == (60000,)\n",
    "assert y_test.shape == (10000,)"
   ]
  },
  {
   "cell_type": "code",
   "execution_count": 12,
   "id": "0ba87b05",
   "metadata": {
    "scrolled": true
   },
   "outputs": [
    {
     "name": "stdout",
     "output_type": "stream",
     "text": [
      "<PrefetchDataset element_spec={'image': TensorSpec(shape=(28, 28, 1), dtype=tf.uint8, name=None), 'label': TensorSpec(shape=(), dtype=tf.int64, name=None)}>\n"
     ]
    }
   ],
   "source": [
    "ds = tfds.load('mnist', split='train', shuffle_files=True)\n",
    "assert isinstance(ds, tf.data.Dataset)\n",
    "print(ds)"
   ]
  },
  {
   "cell_type": "code",
   "execution_count": 17,
   "id": "1958b6fc",
   "metadata": {},
   "outputs": [
    {
     "data": {
      "text/plain": [
       "dict_keys(['data', 'target', 'frame', 'categories', 'feature_names', 'target_names', 'DESCR', 'details', 'url'])"
      ]
     },
     "execution_count": 17,
     "metadata": {},
     "output_type": "execute_result"
    }
   ],
   "source": [
    "from sklearn.datasets import fetch_openml\n",
    "mnist = fetch_openml('mnist_784', version=1)\n",
    "mnist.keys()"
   ]
  },
  {
   "cell_type": "code",
   "execution_count": 18,
   "id": "46f51d9c",
   "metadata": {},
   "outputs": [
    {
     "name": "stdout",
     "output_type": "stream",
     "text": [
      "(70000, 784) (70000,)\n"
     ]
    }
   ],
   "source": [
    "x, y = mnist['data'], mnist['target']\n",
    "print(x.shape, y.shape)"
   ]
  },
  {
   "cell_type": "code",
   "execution_count": 48,
   "id": "e1aae07f",
   "metadata": {},
   "outputs": [
    {
     "data": {
      "text/plain": [
       "pixel1      0.0\n",
       "pixel2      0.0\n",
       "pixel3      0.0\n",
       "pixel4      0.0\n",
       "pixel5      0.0\n",
       "           ... \n",
       "pixel780    0.0\n",
       "pixel781    0.0\n",
       "pixel782    0.0\n",
       "pixel783    0.0\n",
       "pixel784    0.0\n",
       "Name: 0, Length: 784, dtype: float64"
      ]
     },
     "execution_count": 48,
     "metadata": {},
     "output_type": "execute_result"
    }
   ],
   "source": [
    "x.loc[0, :]"
   ]
  },
  {
   "cell_type": "code",
   "execution_count": 44,
   "id": "26be2a94",
   "metadata": {},
   "outputs": [
    {
     "ename": "AttributeError",
     "evalue": "'Series' object has no attribute 'reshape'",
     "output_type": "error",
     "traceback": [
      "\u001b[1;31m---------------------------------------------------------------------------\u001b[0m",
      "\u001b[1;31mAttributeError\u001b[0m                            Traceback (most recent call last)",
      "\u001b[1;32m~\\AppData\\Local\\Temp/ipykernel_6892/2294214946.py\u001b[0m in \u001b[0;36m<module>\u001b[1;34m\u001b[0m\n\u001b[0;32m      1\u001b[0m \u001b[0mdigit\u001b[0m \u001b[1;33m=\u001b[0m \u001b[0mx\u001b[0m\u001b[1;33m.\u001b[0m\u001b[0mloc\u001b[0m\u001b[1;33m[\u001b[0m\u001b[1;36m0\u001b[0m\u001b[1;33m,\u001b[0m\u001b[1;33m:\u001b[0m\u001b[1;33m]\u001b[0m\u001b[1;33m\u001b[0m\u001b[1;33m\u001b[0m\u001b[0m\n\u001b[1;32m----> 2\u001b[1;33m \u001b[0mdigit_image\u001b[0m \u001b[1;33m=\u001b[0m \u001b[0mdigit\u001b[0m\u001b[1;33m.\u001b[0m\u001b[0mreshape\u001b[0m\u001b[1;33m(\u001b[0m\u001b[1;36m28\u001b[0m\u001b[1;33m,\u001b[0m \u001b[1;36m28\u001b[0m\u001b[1;33m)\u001b[0m\u001b[1;33m\u001b[0m\u001b[1;33m\u001b[0m\u001b[0m\n\u001b[0m\u001b[0;32m      3\u001b[0m \u001b[0mprint\u001b[0m\u001b[1;33m(\u001b[0m\u001b[0my\u001b[0m\u001b[1;33m[\u001b[0m\u001b[1;36m0\u001b[0m\u001b[1;33m]\u001b[0m\u001b[1;33m)\u001b[0m\u001b[1;33m\u001b[0m\u001b[1;33m\u001b[0m\u001b[0m\n\u001b[0;32m      4\u001b[0m \u001b[0mplt\u001b[0m\u001b[1;33m.\u001b[0m\u001b[0mimshow\u001b[0m\u001b[1;33m(\u001b[0m\u001b[0mdigit_image\u001b[0m\u001b[1;33m,\u001b[0m \u001b[0mcmap\u001b[0m\u001b[1;33m=\u001b[0m\u001b[1;34m'binary'\u001b[0m\u001b[1;33m)\u001b[0m\u001b[1;33m\u001b[0m\u001b[1;33m\u001b[0m\u001b[0m\n\u001b[0;32m      5\u001b[0m \u001b[0mplt\u001b[0m\u001b[1;33m.\u001b[0m\u001b[0maxis\u001b[0m\u001b[1;33m(\u001b[0m\u001b[1;34m'off'\u001b[0m\u001b[1;33m)\u001b[0m\u001b[1;33m\u001b[0m\u001b[1;33m\u001b[0m\u001b[0m\n",
      "\u001b[1;32mC:\\Anaconda3\\lib\\site-packages\\pandas\\core\\generic.py\u001b[0m in \u001b[0;36m__getattr__\u001b[1;34m(self, name)\u001b[0m\n\u001b[0;32m   5485\u001b[0m         ):\n\u001b[0;32m   5486\u001b[0m             \u001b[1;32mreturn\u001b[0m \u001b[0mself\u001b[0m\u001b[1;33m[\u001b[0m\u001b[0mname\u001b[0m\u001b[1;33m]\u001b[0m\u001b[1;33m\u001b[0m\u001b[1;33m\u001b[0m\u001b[0m\n\u001b[1;32m-> 5487\u001b[1;33m         \u001b[1;32mreturn\u001b[0m \u001b[0mobject\u001b[0m\u001b[1;33m.\u001b[0m\u001b[0m__getattribute__\u001b[0m\u001b[1;33m(\u001b[0m\u001b[0mself\u001b[0m\u001b[1;33m,\u001b[0m \u001b[0mname\u001b[0m\u001b[1;33m)\u001b[0m\u001b[1;33m\u001b[0m\u001b[1;33m\u001b[0m\u001b[0m\n\u001b[0m\u001b[0;32m   5488\u001b[0m \u001b[1;33m\u001b[0m\u001b[0m\n\u001b[0;32m   5489\u001b[0m     \u001b[1;32mdef\u001b[0m \u001b[0m__setattr__\u001b[0m\u001b[1;33m(\u001b[0m\u001b[0mself\u001b[0m\u001b[1;33m,\u001b[0m \u001b[0mname\u001b[0m\u001b[1;33m:\u001b[0m \u001b[0mstr\u001b[0m\u001b[1;33m,\u001b[0m \u001b[0mvalue\u001b[0m\u001b[1;33m)\u001b[0m \u001b[1;33m->\u001b[0m \u001b[1;32mNone\u001b[0m\u001b[1;33m:\u001b[0m\u001b[1;33m\u001b[0m\u001b[1;33m\u001b[0m\u001b[0m\n",
      "\u001b[1;31mAttributeError\u001b[0m: 'Series' object has no attribute 'reshape'"
     ]
    }
   ],
   "source": [
    "digit = x.loc[0,:]\n",
    "digit_image = digit.reshape(28, 28)\n",
    "print(y[0])\n",
    "plt.imshow(digit_image, cmap='binary')\n",
    "plt.axis('off')\n",
    "plt.show()"
   ]
  },
  {
   "cell_type": "code",
   "execution_count": null,
   "id": "9a299d40",
   "metadata": {},
   "outputs": [],
   "source": []
  }
 ],
 "metadata": {
  "kernelspec": {
   "display_name": "Python 3 (ipykernel)",
   "language": "python",
   "name": "python3"
  },
  "language_info": {
   "codemirror_mode": {
    "name": "ipython",
    "version": 3
   },
   "file_extension": ".py",
   "mimetype": "text/x-python",
   "name": "python",
   "nbconvert_exporter": "python",
   "pygments_lexer": "ipython3",
   "version": "3.9.7"
  }
 },
 "nbformat": 4,
 "nbformat_minor": 5
}
