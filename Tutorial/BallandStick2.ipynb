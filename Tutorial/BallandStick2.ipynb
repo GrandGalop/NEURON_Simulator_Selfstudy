{
 "cells": [
  {
   "cell_type": "markdown",
   "id": "b7b502cd",
   "metadata": {},
   "source": [
    "# Ball And Stick2"
   ]
  },
  {
   "cell_type": "code",
   "execution_count": 1,
   "id": "0f88a0dc",
   "metadata": {},
   "outputs": [],
   "source": [
    "from neuron import h, gui\n",
    "from neuron.units import ms, mV\n",
    "h.load_file('stdrun.hoc')\n",
    "pass"
   ]
  },
  {
   "cell_type": "code",
   "execution_count": 2,
   "id": "6dc2cf55",
   "metadata": {},
   "outputs": [],
   "source": [
    "class Cell:\n",
    "    def __init__(self, gid, x, y, z, theta):\n",
    "        self._gid = gid\n",
    "        self._setup_morphology()\n",
    "        self.all = self.soma.wholetree()\n",
    "        self._setup_biophysics()\n",
    "        self.x = self.y = self.z = 0              \n",
    "        h.define_shape()\n",
    "        self._rotate_z(theta)                       \n",
    "        self._set_position(x, y, z)                \n",
    "        \n",
    "    def __repr__(self):\n",
    "        return '{}[{}]'.format(self.name, self._gid)\n",
    "    \n",
    "    def _set_position(self, x, y, z):\n",
    "        for sec in self.all:\n",
    "            for i in range(sec.n3d()):\n",
    "                sec.pt3dchange(i,\n",
    "                               x - self.x + sec.x3d(i),\n",
    "                               y - self.y + sec.y3d(i),\n",
    "                               z - self.z + sec.z3d(i),\n",
    "                              sec.diam3d(i))\n",
    "        self.x, self.y, self.z = x, y, z\n",
    "    def _rotate_z(self, theta):\n",
    "        for sec in self.all:\n",
    "            for i in range(sec.n3d()):\n",
    "                x = sec.x3d(i)\n",
    "                y = sec.y3d(i)\n",
    "                c = h.cos(theta)\n",
    "                s = h.sin(theta)\n",
    "                xprime = x * c - y * s\n",
    "                yprime = x * s + y * c\n",
    "                sec.pt3dchange(i, xprime, yprime, sec.z3d(i), sec.diam3d(i))\n",
    "                \"\"\"\n",
    "                sec.pt3dchange(i, xprime, yprime, sec.z3d(i), sec.diam3d(i))의 역할:\n",
    "                (x, y, z, theta)의 position을 가지고 있던 공간상의 cell i에 대하여\n",
    "                position을 (xprime, yprime, sec.z3d(i), sec.diam3d(i))로 modify.\n",
    "                \"\"\"\n",
    "\"\"\"\n",
    "Generic Cell class 선언부\n",
    "Cell(a, b, c, d, e)를 accept할 경우 a번째 cell을 (b, c, d)의 공간 좌표 상에 놓은 다음\n",
    "z축을 기준으로 e radian만큼 회전시킨다.\n",
    "\"\"\"\n",
    "pass"
   ]
  },
  {
   "cell_type": "code",
   "execution_count": 3,
   "id": "d4a625e0",
   "metadata": {},
   "outputs": [],
   "source": [
    "class BallAndStick(Cell):\n",
    "    name = 'BallAndStick'\n",
    "    def _setup_morphology(self):\n",
    "        self.soma = h.Section(name='soma', cell=self)\n",
    "        self.dend = h.Section(name='dend', cell=self)\n",
    "        self.dend.connect(self.soma)\n",
    "        self.soma.L = self.soma.diam = 12.6157\n",
    "        self.dend.L = 200\n",
    "        self.dend.diam = 1\n",
    "    def _setup_biophysics(self):\n",
    "        for sec in self.all:\n",
    "            sec.Ra = 100    # Axial resistance in Ohm * cm\n",
    "            sec.cm = 1      # Membrane capacitance in micro Farads / cm^2\n",
    "        self.soma.insert('hh')                                          \n",
    "        for seg in self.soma:\n",
    "            seg.hh.gnabar = 0.12  # Sodium conductance in S/cm2\n",
    "            seg.hh.gkbar = 0.036  # Potassium conductance in S/cm2\n",
    "            seg.hh.gl = 0.0003    # Leak conductance in S/cm2\n",
    "            seg.hh.el = -54.3     # Reversal potential in mV\n",
    "        # Insert passive current in the dendrite\n",
    "        self.dend.insert('pas')                 \n",
    "        for seg in self.dend:\n",
    "            seg.pas.g = 0.001  # Passive conductance in S/cm2\n",
    "            seg.pas.e = -65    # Leak reversal potential mV\n",
    "\"\"\"\n",
    "Ball And Stick1에서 다루었던 신경 세포 class.\n",
    "이 때, __init__과 __repr__ method, self.all을 제거되었다는 차이점이 있다.\n",
    "Soma와 Dendrite를 함께 고려하기 위함이다.\n",
    "\"\"\"\n",
    "pass"
   ]
  },
  {
   "cell_type": "code",
   "execution_count": 4,
   "id": "d39fecad",
   "metadata": {},
   "outputs": [],
   "source": [
    "def create_n_BallAndStick(n, r):\n",
    "    cells = []\n",
    "    for i in range(n):\n",
    "        theta = i * 2 * h.PI / n\n",
    "        cells.append(BallAndStick(i, h.cos(theta) * r, h.sin(theta) * r, 0, theta))\n",
    "    return cells\n",
    "    \"\"\"\n",
    "    2pi를 n으로 나누어 각 부분에 n개만큼 입력한 cell을 배치하고\n",
    "    이 cell들을 cells list로 묶어 한꺼번에 return.\n",
    "    \"\"\"\n",
    "\n",
    "\"\"\"\n",
    "n개의 cell을 원형으로 배치하는 function.\n",
    "r은 배치할 원의 반경의 micron 단위이다.\n",
    "\"\"\"\n",
    "pass"
   ]
  },
  {
   "cell_type": "code",
   "execution_count": 5,
   "id": "5d2b97ff",
   "metadata": {},
   "outputs": [],
   "source": [
    "my_cells = create_n_BallAndStick(7, 50)\n",
    "ps=h.PlotShape(True)\n",
    "ps.show(0)\n",
    "\"\"\"\n",
    "my_cells를 7개의 세포를 z=0인 평면에 균등하게 배치 후 GUI로 표현.\n",
    "\"\"\"\n",
    "pass"
   ]
  },
  {
   "cell_type": "code",
   "execution_count": 6,
   "id": "44b024ff",
   "metadata": {},
   "outputs": [
    {
     "name": "stdout",
     "output_type": "stream",
     "text": [
      "[BallAndStick[0], BallAndStick[1], BallAndStick[2], BallAndStick[3], BallAndStick[4], BallAndStick[5], BallAndStick[6]]\n"
     ]
    }
   ],
   "source": [
    "print(my_cells)"
   ]
  },
  {
   "cell_type": "code",
   "execution_count": 7,
   "id": "86bc389c",
   "metadata": {
    "scrolled": true
   },
   "outputs": [
    {
     "name": "stdout",
     "output_type": "stream",
     "text": [
      "Reversal potential = 0.0 mV\n"
     ]
    }
   ],
   "source": [
    "\"\"\"\n",
    "NetStim\n",
    "\n",
    "하나의 세포에 CurrentClamp를 통해 자극을 준 #1과 달리,\n",
    "가상 시냅스를 할당해서 synaptic event를 통해 세포를 구동할 것.\n",
    "\n",
    "Object간의 Event-based communication은 NetCons라는 network connecton object를 통해 발생한다.\n",
    "각 NetCon은 source와 traget을 가지고, 이 중 source는 spike의 역치를 찾는 역할을 한다.\n",
    "spike가 detect되면, NetCon은 target에 message를 보낸다.\n",
    "\n",
    "NetStim은 NetCon의 source를 자극하기 위한 spike generator이다.\n",
    "\"\"\"\n",
    "stim = h.NetStim()\n",
    "syn_ = h.ExpSyn(my_cells[0].dend(0.5))\n",
    "\"\"\"\n",
    "새로운 Stimulator의 선언.\n",
    "첫 cell의 Dendrite의 중심의 synapse에 attach.\n",
    "ExpSyn은 AMPA synapse와 비슷한 행동을 보이는 synapse를 선언함.\n",
    "\"\"\"\n",
    "\n",
    "stim.number = 1\n",
    "stim.start = 9\n",
    "ncstim = h.NetCon(stim, syn_)  #h.NetCon(stim, syn_) : stim type의 stimulation을 syn_ synapse에 netcon 형태로 주입.\n",
    "ncstim.delay = 1*ms\n",
    "ncstim.weight[0] = 0.04  #Vector형태의 NetCon weight.\n",
    "\n",
    "syn_.tau = 2*ms  #synapse syn_의 시간상수 tau를 결정.\n",
    "print('Reversal potential = {} mV'.format(syn_.e))"
   ]
  },
  {
   "cell_type": "code",
   "execution_count": 8,
   "id": "0cf5ff70",
   "metadata": {},
   "outputs": [],
   "source": [
    "recording_cell = my_cells[0]\n",
    "soma_v = h.Vector().record(recording_cell.soma(0.5)._ref_v)\n",
    "dend_v = h.Vector().record(recording_cell.dend(0.5)._ref_v)\n",
    "t = h.Vector().record(h._ref_t)\n",
    "%matplotlib inline\n",
    "import matplotlib.pyplot as plt"
   ]
  },
  {
   "cell_type": "code",
   "execution_count": 9,
   "id": "cd3fbfe6",
   "metadata": {},
   "outputs": [
    {
     "data": {
      "image/png": "[encoded data removed]",
      "text/plain": [
       "<Figure size 432x288 with 1 Axes>"
      ]
     },
     "metadata": {
      "needs_background": "light"
     },
     "output_type": "display_data"
    }
   ],
   "source": [
    "h.finitialize(-65*mV)\n",
    "h.continuerun(25*ms)\n",
    "plt.plot(t, soma_v, label='soma(0.5)')\n",
    "plt.plot(t, dend_v, label='dend(0.5)')\n",
    "plt.legend()\n",
    "plt.show()"
   ]
  },
  {
   "cell_type": "code",
   "execution_count": 10,
   "id": "ff4adc3b",
   "metadata": {
    "scrolled": false
   },
   "outputs": [
    {
     "data": {
      "image/png": "[encoded data removed]",
      "text/plain": [
       "<Figure size 576x288 with 2 Axes>"
      ]
     },
     "metadata": {
      "needs_background": "light"
     },
     "output_type": "display_data"
    }
   ],
   "source": [
    "syn_i = h.Vector().record(syn_._ref_i)  #Synaptic current를 record하는 vector.\n",
    "\n",
    "h.finitialize(-65 * mV)\n",
    "h.continuerun(25 * ms)\n",
    "\n",
    "fig = plt.figure(figsize=(8,4))\n",
    "ax1 = fig.add_subplot(2, 1, 1)  #(8,4)의 figure를 2분할, 1분할하여 그 중 첫 번째를 ax1으로 define\n",
    "soma_plot = ax1.plot(t, soma_v, color='black', label='soma(0.5)')\n",
    "dend_plot = ax1.plot(t, dend_v, color='red', label='dend(0.5)')\n",
    "rev_plot = ax1.plot([t[0], t[-1]], [syn_.e, syn_.e], label='syn reversal', color='blue', linestyle=':')\n",
    "# (t[0], syn_.e)와 (t[-1], syn_.e)를 잇는 선분을 파란 점선으로 표현.\n",
    "ax1.legend()\n",
    "ax1.set_ylabel('mV')\n",
    "ax1.set_xticks([])\n",
    "\n",
    "ax2 = fig.add_subplot(2, 1, 2)  #같은 방식으로 2번째를 ax2로 define.\n",
    "syn_plot = ax2.plot(t, syn_i, color='blue', label='synaptic current')\n",
    "ax2.legend()\n",
    "ax2.set_ylabel(h.units('ExpSyn.i'))\n",
    "ax2.set_xlabel('time (ms)')\n",
    "plt.show()"
   ]
  },
  {
   "cell_type": "code",
   "execution_count": 11,
   "id": "ab1d2e66",
   "metadata": {},
   "outputs": [],
   "source": [
    "\"\"\"\n",
    "Connecting the Cells\n",
    "\n",
    "n번째 cell에서 n+1번째 cell의 middle of dendrite에 synapse를 통해 자극을 전달을 목적.\n",
    "이 때, soma에서 action potential이 일어나면, spike가 axon을 따라 전파되어 잠깐의 delay 후 target cell의 dendrite에 synaptic event를 유도한다.\n",
    "따라서, spike detector를 pre cell의 soma에 설치하여야 한다.\n",
    "\"\"\"\n",
    "syns = []\n",
    "netcons = []\n",
    "for source, target in zip(my_cells, my_cells[1:] + [my_cells[0]]):\n",
    "# zip은 각 cell을 다음 cell과 쌍으로 구성되고, 여기에 마지막 cell과 첫 cell의 pair가 추가됨.\n",
    "    syn = h.ExpSyn(target.dend(0.5))\n",
    "    nc = h.NetCon(source.soma(0.5)._ref_v, syn, sec=source.soma)\n",
    "    nc.weight[0] = 0.05\n",
    "    nc.delay = 5\n",
    "    netcons.append(nc)\n",
    "    syns.append(syn)"
   ]
  },
  {
   "cell_type": "code",
   "execution_count": 12,
   "id": "df5e532e",
   "metadata": {
    "scrolled": true
   },
   "outputs": [
    {
     "data": {
      "image/png": "[encoded data removed]",
      "text/plain": [
       "<Figure size 432x288 with 1 Axes>"
      ]
     },
     "metadata": {
      "needs_background": "light"
     },
     "output_type": "display_data"
    }
   ],
   "source": [
    "h.finitialize(-65*mV)\n",
    "h.continuerun(100*ms)\n",
    "plt.plot(t, soma_v, label='soma(0.5)')\n",
    "plt.plot(t, dend_v, label='dend(0.5)')\n",
    "plt.legend()\n",
    "plt.show()\n",
    "\"\"\"\n",
    "my_cells[0]의 단일 cell을 plot해 보면, 두 번 이상의 spike가 발생함을 확인할 수 있다.\n",
    "이는 spike가 network를 통해 전송되고 있음을 시사한다.\n",
    "\"\"\"\n",
    "pass"
   ]
  },
  {
   "cell_type": "code",
   "execution_count": 13,
   "id": "cca2ef75",
   "metadata": {},
   "outputs": [
    {
     "data": {
      "image/png": "[encoded data removed]",
      "text/plain": [
       "<Figure size 432x288 with 1 Axes>"
      ]
     },
     "metadata": {
      "needs_background": "light"
     },
     "output_type": "display_data"
    }
   ],
   "source": [
    "\"\"\"\n",
    "As an Exercise : how about my_cells[1]?\n",
    "\"\"\"\n",
    "recording_cell1 = my_cells[1]\n",
    "soma_v1 = h.Vector().record(recording_cell1.soma(0.5)._ref_v)\n",
    "dend_v1 = h.Vector().record(recording_cell1.dend(0.5)._ref_v)\n",
    "\n",
    "h.finitialize(-65*mV)\n",
    "h.continuerun(100*ms)\n",
    "plt.plot(t, soma_v1, label='soma(0.5)')\n",
    "plt.plot(t, dend_v1, label='dend(0.5)')\n",
    "plt.legend()\n",
    "plt.show()\n",
    "\"\"\"\n",
    "recording_cell1이라는 새로운 변수를 my_cells[1]으로 잡고 \n",
    "해당 cell에 대한 soma와 dend vector들을 각각 soma_v1, dend_v1으로 추출.\n",
    "\n",
    "plot결과, my_cells[0]으로부터 EPSP를 받아 action potential이 형성되었고, my_cells[0]과 비교하여 다소 delayed 되어있음을 확인할 수 있다.\n",
    "또한, NetCon을 통해 탈분극된 my_cells[0]의 dendrite spike와 달리 첫 spike부터 dendrite potential이 크게 꺾임을 확인할 수 있다.\n",
    "\"\"\"\n",
    "pass"
   ]
  },
  {
   "cell_type": "code",
   "execution_count": 14,
   "id": "8309cc0b",
   "metadata": {},
   "outputs": [
    {
     "name": "stdout",
     "output_type": "stream",
     "text": [
      "cell 0: [10.925000000099914, 56.60000000010431]\n",
      "cell 1: [17.450000000099543, 63.12500000010579]\n",
      "cell 2: [23.975000000099172, 69.65000000010727]\n",
      "cell 3: [30.5000000000988, 76.17500000010875]\n",
      "cell 4: [37.02500000009986, 82.70000000011024]\n",
      "cell 5: [43.55000000010134, 89.22500000011172]\n",
      "cell 6: [50.075000000102825, 95.7500000001132]\n"
     ]
    },
    {
     "data": {
      "image/png": "[encoded data removed]",
      "text/plain": [
       "<Figure size 432x288 with 1 Axes>"
      ]
     },
     "metadata": {
      "needs_background": "light"
     },
     "output_type": "display_data"
    }
   ],
   "source": [
    "spike_times = [h.Vector() for nc in netcons]\n",
    "for nc, spike_times_vec in zip(netcons, spike_times):\n",
    "    nc.record(spike_times_vec)\n",
    "\"\"\"\n",
    "NetCon.record를 이용하여 Vector object에 spike를 record할 수 있다.\n",
    "\"\"\"\n",
    "h.finitialize(-65 * mV)\n",
    "h.continuerun(100 * ms)\n",
    "for i, spike_times_vec in enumerate(spike_times):\n",
    "    print('cell {}: {}'.format(i, list(spike_times_vec)))\n",
    "\n",
    "import matplotlib.pyplot as plt\n",
    "plt.figure()\n",
    "\n",
    "for i, spike_times_vec in enumerate(spike_times):\n",
    "    plt.vlines(spike_times_vec, i + 0.5, i + 1.5)\n",
    "plt.show()"
   ]
  },
  {
   "cell_type": "code",
   "execution_count": 15,
   "id": "77184f46",
   "metadata": {},
   "outputs": [
    {
     "name": "stdout",
     "output_type": "stream",
     "text": [
      "\n",
      "|-|       BallAndStick[0].soma(0-1)\n",
      "   `|       BallAndStick[0].dend(0-1)\n",
      "|-|       BallAndStick[1].soma(0-1)\n",
      "   `|       BallAndStick[1].dend(0-1)\n",
      "|-|       BallAndStick[2].soma(0-1)\n",
      "   `|       BallAndStick[2].dend(0-1)\n",
      "|-|       BallAndStick[3].soma(0-1)\n",
      "   `|       BallAndStick[3].dend(0-1)\n",
      "|-|       BallAndStick[4].soma(0-1)\n",
      "   `|       BallAndStick[4].dend(0-1)\n",
      "|-|       BallAndStick[5].soma(0-1)\n",
      "   `|       BallAndStick[5].dend(0-1)\n",
      "|-|       BallAndStick[6].soma(0-1)\n",
      "   `|       BallAndStick[6].dend(0-1)\n",
      "\n"
     ]
    },
    {
     "data": {
      "text/plain": [
       "1.0"
      ]
     },
     "execution_count": 15,
     "metadata": {},
     "output_type": "execute_result"
    }
   ],
   "source": [
    "h.topology()"
   ]
  }
 ],
 "metadata": {
  "kernelspec": {
   "display_name": "Python 3 (ipykernel)",
   "language": "python",
   "name": "python3"
  },
  "language_info": {
   "codemirror_mode": {
    "name": "ipython",
    "version": 3
   },
   "file_extension": ".py",
   "mimetype": "text/x-python",
   "name": "python",
   "nbconvert_exporter": "python",
   "pygments_lexer": "ipython3",
   "version": "3.9.7"
  }
 },
 "nbformat": 4,
 "nbformat_minor": 5
}
